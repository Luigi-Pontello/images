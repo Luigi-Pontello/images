{
 "cells": [
  {
   "cell_type": "markdown",
   "metadata": {},
   "source": [
    "# Uma análise sobre os números da Covid-19"
   ]
  },
  {
   "cell_type": "markdown",
   "metadata": {},
   "source": [
    "### O que é a SARS-CoV-2 ou Covid-19, como é popularmente conhecida? "
   ]
  },
  {
   "cell_type": "markdown",
   "metadata": {},
   "source": [
    " A COVID-19 é uma doença causada pelo coronavírus, denominado SARS-CoV-2, que apresenta um espectro clínico variando de infecções assintomáticas a quadros graves. De acordo com a Organização Mundial de Saúde, a maioria (cerca de 80%) dos pacientes com COVID-19 podem ser assintomáticos ou oligossintomáticos (poucos sintomas), e aproximadamente 20% dos casos detectados requer atendimento hospitalar por apresentarem dificuldade respiratória, dos quais aproximadamente 5% podem necessitar de suporte ventilatório.\n",
    " \n",
    " Definição extraída do: https://coronavirus.saude.gov.br/sobre-a-doenca"
   ]
  },
  {
   "cell_type": "markdown",
   "metadata": {},
   "source": [
    "Apesar de parecer ser uma doença com uma baixa mortalidade, o covid-19 tem uma extrema facilidade de transmissão, e junto dessa facilidade de transmissão, ocorrem as superlotações de hospitais. \n",
    "Não é segredo para ninguém que o Brasil sempre sofreu com problemas de leitos em hospitais durante anos anteriores, porém, dessa vez temos uma agravante muito maior, que causa um colapso no nosso frágil sistema de saúde de maneira mais rápida."
   ]
  },
  {
   "cell_type": "markdown",
   "metadata": {},
   "source": [
    "Como as atenções do mundo hoje giram em torno dos números da doença e seus impactos, resolvi fazer uma análise dos números até o dia de hoje, 28/03/2021.\n",
    "\n",
    "Para esta análise, irei utilizar o dataset https://github.com/owid/covid-19-data/tree/master/public/data."
   ]
  },
  {
   "cell_type": "markdown",
   "metadata": {},
   "source": [
    "Este dataset é fornecido pelo Our Wolrd in Data, um projeto do Global Change Data Lab , uma organização sem fins lucrativos com sede no Reino Unido.\n",
    "\n",
    "O objetivo dele é  tornar o conhecimento dos grandes problemas acessível e compreensível. Como eles dizem em sua página inicial , Our World in Data é sobre Pesquisa e dados para fazer progresso contra os maiores problemas do mundo."
   ]
  },
  {
   "cell_type": "markdown",
   "metadata": {},
   "source": [
    "## Dados do Brasil"
   ]
  },
  {
   "cell_type": "markdown",
   "metadata": {},
   "source": [
    "Não é segredo para ninguém que o Brasil ainda não possui uma forte cultura de dados, e consequenetemente como temos grandes conflitos aos reais números da Covid-19 em nosso país. Causando conflitos de informações e divergências, o que gerou ate mesmo aos jornalistas criarem uma base de dados para fazerem os relatórios dos números da Covid. \n",
    "\n",
    "\n",
    "A Our Wolrd in Data deixa alguns alertas sobre seu dataset se tratando do Brasil:\n",
    "\n",
    "°Os números dos casos relatados em uma determinada data não mostram necessariamente o número de novos casos naquele dia - isso se deve a atrasos na notificação.\n",
    "\n",
    "°O número real de casos provavelmente será muito maior do que o número de casos confirmados - isso se deve aos testes limitados."
   ]
  },
  {
   "cell_type": "markdown",
   "metadata": {},
   "source": [
    "Vamos iniciar nossa análise, realizando a importação das bibliotecas a serem utilizadas.\n",
    "\n",
    "Um detalhe, não irei realizar nenhum processo de visualização de dados neste notebook, apenas o tratamento dos dados. Toda a visualização estará disponível no artigo ao qual esta tratativa se destina."
   ]
  },
  {
   "cell_type": "code",
   "execution_count": 24,
   "metadata": {},
   "outputs": [],
   "source": [
    "#Realizando a importação das bibliotecas Pandas e Numpy\n",
    "\n",
    "import pandas as pd\n",
    "import numpy as np"
   ]
  },
  {
   "cell_type": "markdown",
   "metadata": {},
   "source": [
    "A Our Wolrd in Data disponibiliza vários tipos de datasets, seja eles referentes ao número de vacinados ou mesmo a números gerais da Covid-19.\n",
    "Neste análise utilizei o **owid-covid-data.csv**"
   ]
  },
  {
   "cell_type": "code",
   "execution_count": 25,
   "metadata": {},
   "outputs": [
    {
     "data": {
      "text/html": [
       "<div>\n",
       "<style scoped>\n",
       "    .dataframe tbody tr th:only-of-type {\n",
       "        vertical-align: middle;\n",
       "    }\n",
       "\n",
       "    .dataframe tbody tr th {\n",
       "        vertical-align: top;\n",
       "    }\n",
       "\n",
       "    .dataframe thead th {\n",
       "        text-align: right;\n",
       "    }\n",
       "</style>\n",
       "<table border=\"1\" class=\"dataframe\">\n",
       "  <thead>\n",
       "    <tr style=\"text-align: right;\">\n",
       "      <th></th>\n",
       "      <th>iso_code</th>\n",
       "      <th>continent</th>\n",
       "      <th>location</th>\n",
       "      <th>date</th>\n",
       "      <th>total_cases</th>\n",
       "      <th>new_cases</th>\n",
       "      <th>new_cases_smoothed</th>\n",
       "      <th>total_deaths</th>\n",
       "      <th>new_deaths</th>\n",
       "      <th>new_deaths_smoothed</th>\n",
       "      <th>...</th>\n",
       "      <th>gdp_per_capita</th>\n",
       "      <th>extreme_poverty</th>\n",
       "      <th>cardiovasc_death_rate</th>\n",
       "      <th>diabetes_prevalence</th>\n",
       "      <th>female_smokers</th>\n",
       "      <th>male_smokers</th>\n",
       "      <th>handwashing_facilities</th>\n",
       "      <th>hospital_beds_per_thousand</th>\n",
       "      <th>life_expectancy</th>\n",
       "      <th>human_development_index</th>\n",
       "    </tr>\n",
       "  </thead>\n",
       "  <tbody>\n",
       "    <tr>\n",
       "      <th>0</th>\n",
       "      <td>AFG</td>\n",
       "      <td>Asia</td>\n",
       "      <td>Afghanistan</td>\n",
       "      <td>2020-02-24</td>\n",
       "      <td>1.0</td>\n",
       "      <td>1.0</td>\n",
       "      <td>NaN</td>\n",
       "      <td>NaN</td>\n",
       "      <td>NaN</td>\n",
       "      <td>NaN</td>\n",
       "      <td>...</td>\n",
       "      <td>1803.987</td>\n",
       "      <td>NaN</td>\n",
       "      <td>597.029</td>\n",
       "      <td>9.59</td>\n",
       "      <td>NaN</td>\n",
       "      <td>NaN</td>\n",
       "      <td>37.746</td>\n",
       "      <td>0.5</td>\n",
       "      <td>64.83</td>\n",
       "      <td>0.511</td>\n",
       "    </tr>\n",
       "    <tr>\n",
       "      <th>1</th>\n",
       "      <td>AFG</td>\n",
       "      <td>Asia</td>\n",
       "      <td>Afghanistan</td>\n",
       "      <td>2020-02-25</td>\n",
       "      <td>1.0</td>\n",
       "      <td>0.0</td>\n",
       "      <td>NaN</td>\n",
       "      <td>NaN</td>\n",
       "      <td>NaN</td>\n",
       "      <td>NaN</td>\n",
       "      <td>...</td>\n",
       "      <td>1803.987</td>\n",
       "      <td>NaN</td>\n",
       "      <td>597.029</td>\n",
       "      <td>9.59</td>\n",
       "      <td>NaN</td>\n",
       "      <td>NaN</td>\n",
       "      <td>37.746</td>\n",
       "      <td>0.5</td>\n",
       "      <td>64.83</td>\n",
       "      <td>0.511</td>\n",
       "    </tr>\n",
       "    <tr>\n",
       "      <th>2</th>\n",
       "      <td>AFG</td>\n",
       "      <td>Asia</td>\n",
       "      <td>Afghanistan</td>\n",
       "      <td>2020-02-26</td>\n",
       "      <td>1.0</td>\n",
       "      <td>0.0</td>\n",
       "      <td>NaN</td>\n",
       "      <td>NaN</td>\n",
       "      <td>NaN</td>\n",
       "      <td>NaN</td>\n",
       "      <td>...</td>\n",
       "      <td>1803.987</td>\n",
       "      <td>NaN</td>\n",
       "      <td>597.029</td>\n",
       "      <td>9.59</td>\n",
       "      <td>NaN</td>\n",
       "      <td>NaN</td>\n",
       "      <td>37.746</td>\n",
       "      <td>0.5</td>\n",
       "      <td>64.83</td>\n",
       "      <td>0.511</td>\n",
       "    </tr>\n",
       "    <tr>\n",
       "      <th>3</th>\n",
       "      <td>AFG</td>\n",
       "      <td>Asia</td>\n",
       "      <td>Afghanistan</td>\n",
       "      <td>2020-02-27</td>\n",
       "      <td>1.0</td>\n",
       "      <td>0.0</td>\n",
       "      <td>NaN</td>\n",
       "      <td>NaN</td>\n",
       "      <td>NaN</td>\n",
       "      <td>NaN</td>\n",
       "      <td>...</td>\n",
       "      <td>1803.987</td>\n",
       "      <td>NaN</td>\n",
       "      <td>597.029</td>\n",
       "      <td>9.59</td>\n",
       "      <td>NaN</td>\n",
       "      <td>NaN</td>\n",
       "      <td>37.746</td>\n",
       "      <td>0.5</td>\n",
       "      <td>64.83</td>\n",
       "      <td>0.511</td>\n",
       "    </tr>\n",
       "    <tr>\n",
       "      <th>4</th>\n",
       "      <td>AFG</td>\n",
       "      <td>Asia</td>\n",
       "      <td>Afghanistan</td>\n",
       "      <td>2020-02-28</td>\n",
       "      <td>1.0</td>\n",
       "      <td>0.0</td>\n",
       "      <td>NaN</td>\n",
       "      <td>NaN</td>\n",
       "      <td>NaN</td>\n",
       "      <td>NaN</td>\n",
       "      <td>...</td>\n",
       "      <td>1803.987</td>\n",
       "      <td>NaN</td>\n",
       "      <td>597.029</td>\n",
       "      <td>9.59</td>\n",
       "      <td>NaN</td>\n",
       "      <td>NaN</td>\n",
       "      <td>37.746</td>\n",
       "      <td>0.5</td>\n",
       "      <td>64.83</td>\n",
       "      <td>0.511</td>\n",
       "    </tr>\n",
       "  </tbody>\n",
       "</table>\n",
       "<p>5 rows × 59 columns</p>\n",
       "</div>"
      ],
      "text/plain": [
       "  iso_code continent     location        date  total_cases  new_cases  \\\n",
       "0      AFG      Asia  Afghanistan  2020-02-24          1.0        1.0   \n",
       "1      AFG      Asia  Afghanistan  2020-02-25          1.0        0.0   \n",
       "2      AFG      Asia  Afghanistan  2020-02-26          1.0        0.0   \n",
       "3      AFG      Asia  Afghanistan  2020-02-27          1.0        0.0   \n",
       "4      AFG      Asia  Afghanistan  2020-02-28          1.0        0.0   \n",
       "\n",
       "   new_cases_smoothed  total_deaths  new_deaths  new_deaths_smoothed  ...  \\\n",
       "0                 NaN           NaN         NaN                  NaN  ...   \n",
       "1                 NaN           NaN         NaN                  NaN  ...   \n",
       "2                 NaN           NaN         NaN                  NaN  ...   \n",
       "3                 NaN           NaN         NaN                  NaN  ...   \n",
       "4                 NaN           NaN         NaN                  NaN  ...   \n",
       "\n",
       "   gdp_per_capita  extreme_poverty  cardiovasc_death_rate  \\\n",
       "0        1803.987              NaN                597.029   \n",
       "1        1803.987              NaN                597.029   \n",
       "2        1803.987              NaN                597.029   \n",
       "3        1803.987              NaN                597.029   \n",
       "4        1803.987              NaN                597.029   \n",
       "\n",
       "   diabetes_prevalence  female_smokers  male_smokers  handwashing_facilities  \\\n",
       "0                 9.59             NaN           NaN                  37.746   \n",
       "1                 9.59             NaN           NaN                  37.746   \n",
       "2                 9.59             NaN           NaN                  37.746   \n",
       "3                 9.59             NaN           NaN                  37.746   \n",
       "4                 9.59             NaN           NaN                  37.746   \n",
       "\n",
       "   hospital_beds_per_thousand  life_expectancy  human_development_index  \n",
       "0                         0.5            64.83                    0.511  \n",
       "1                         0.5            64.83                    0.511  \n",
       "2                         0.5            64.83                    0.511  \n",
       "3                         0.5            64.83                    0.511  \n",
       "4                         0.5            64.83                    0.511  \n",
       "\n",
       "[5 rows x 59 columns]"
      ]
     },
     "execution_count": 25,
     "metadata": {},
     "output_type": "execute_result"
    }
   ],
   "source": [
    "#Importando o Dataset e visualizando suas 05 primeiras linhas\n",
    "df = pd.read_csv(\"https://raw.githubusercontent.com/owid/covid-19-data/master/public/data/owid-covid-data.csv\")\n",
    "df.head()"
   ]
  },
  {
   "cell_type": "markdown",
   "metadata": {},
   "source": [
    "Em todo o código utilizei poucas colunas, sendo assim irei descrever o significado de cada uma delas em um dicionário:\n",
    "\n",
    "**date** : Data de observação\n",
    "\n",
    "**continent** :Continente da localização geográfica\n",
    "\n",
    "**location** :Localização geográfica\n",
    "\n",
    "**total_cases** : Total de casos confirmados de COVID-19\n",
    "\n",
    "**new_cases** : Novos casos confirmados de COVID-19\n",
    "\n",
    "**total_deaths** : Total de mortes atribuídas a COVID-19\n",
    "\n",
    "**new_deaths** : Novas mortes atribuídas a COVID-19\n",
    "\n",
    "**total_deaths_per_million** :\tTotal de mortes atribuídas a COVID-19 por 1.000.000 de pessoas\n"
   ]
  },
  {
   "cell_type": "markdown",
   "metadata": {},
   "source": [
    "Um passo muito importante é realizar uma análise exploratória em nosso dataset, afinal, precisamos saber com o que estamos lidando.\n",
    "\n",
    "Desta forma, irei visualizar o corpo do dataset"
   ]
  },
  {
   "cell_type": "code",
   "execution_count": 26,
   "metadata": {},
   "outputs": [
    {
     "data": {
      "text/plain": [
       "(77954, 59)"
      ]
     },
     "execution_count": 26,
     "metadata": {},
     "output_type": "execute_result"
    }
   ],
   "source": [
    "#Visualizando o tamanho do dataset\n",
    "df.shape"
   ]
  },
  {
   "cell_type": "markdown",
   "metadata": {},
   "source": [
    "Podemos perceber que, até a data de hoje, 28-03-2021, nosso dataset possui 77954 linhas e 59 colunas. \n",
    "\n",
    "Como é um conjunto de dados que esta sempre atualizando, nos próximos dias a quantidade de linhas estará maior.\n",
    "\n",
    "Agora, vamos chegar os nomes das colunas presentes, ou seja, o cabeçalho."
   ]
  },
  {
   "cell_type": "code",
   "execution_count": 27,
   "metadata": {},
   "outputs": [
    {
     "data": {
      "text/plain": [
       "Index(['iso_code', 'continent', 'location', 'date', 'total_cases', 'new_cases',\n",
       "       'new_cases_smoothed', 'total_deaths', 'new_deaths',\n",
       "       'new_deaths_smoothed', 'total_cases_per_million',\n",
       "       'new_cases_per_million', 'new_cases_smoothed_per_million',\n",
       "       'total_deaths_per_million', 'new_deaths_per_million',\n",
       "       'new_deaths_smoothed_per_million', 'reproduction_rate', 'icu_patients',\n",
       "       'icu_patients_per_million', 'hosp_patients',\n",
       "       'hosp_patients_per_million', 'weekly_icu_admissions',\n",
       "       'weekly_icu_admissions_per_million', 'weekly_hosp_admissions',\n",
       "       'weekly_hosp_admissions_per_million', 'new_tests', 'total_tests',\n",
       "       'total_tests_per_thousand', 'new_tests_per_thousand',\n",
       "       'new_tests_smoothed', 'new_tests_smoothed_per_thousand',\n",
       "       'positive_rate', 'tests_per_case', 'tests_units', 'total_vaccinations',\n",
       "       'people_vaccinated', 'people_fully_vaccinated', 'new_vaccinations',\n",
       "       'new_vaccinations_smoothed', 'total_vaccinations_per_hundred',\n",
       "       'people_vaccinated_per_hundred', 'people_fully_vaccinated_per_hundred',\n",
       "       'new_vaccinations_smoothed_per_million', 'stringency_index',\n",
       "       'population', 'population_density', 'median_age', 'aged_65_older',\n",
       "       'aged_70_older', 'gdp_per_capita', 'extreme_poverty',\n",
       "       'cardiovasc_death_rate', 'diabetes_prevalence', 'female_smokers',\n",
       "       'male_smokers', 'handwashing_facilities', 'hospital_beds_per_thousand',\n",
       "       'life_expectancy', 'human_development_index'],\n",
       "      dtype='object')"
      ]
     },
     "execution_count": 27,
     "metadata": {},
     "output_type": "execute_result"
    }
   ],
   "source": [
    "#Conhecendo as colunas do Dataset\n",
    "df.columns"
   ]
  },
  {
   "cell_type": "markdown",
   "metadata": {},
   "source": [
    "Outra informação importante é saber como estão salvos os tipos dos dados. Esta informação possui muita relevãncia pois, em alguns cenários será necessário fazer uma alteração do type do dado."
   ]
  },
  {
   "cell_type": "code",
   "execution_count": 29,
   "metadata": {},
   "outputs": [
    {
     "data": {
      "text/plain": [
       "iso_code                                  object\n",
       "continent                                 object\n",
       "location                                  object\n",
       "date                                      object\n",
       "total_cases                              float64\n",
       "new_cases                                float64\n",
       "new_cases_smoothed                       float64\n",
       "total_deaths                             float64\n",
       "new_deaths                               float64\n",
       "new_deaths_smoothed                      float64\n",
       "total_cases_per_million                  float64\n",
       "new_cases_per_million                    float64\n",
       "new_cases_smoothed_per_million           float64\n",
       "total_deaths_per_million                 float64\n",
       "new_deaths_per_million                   float64\n",
       "new_deaths_smoothed_per_million          float64\n",
       "reproduction_rate                        float64\n",
       "icu_patients                             float64\n",
       "icu_patients_per_million                 float64\n",
       "hosp_patients                            float64\n",
       "hosp_patients_per_million                float64\n",
       "weekly_icu_admissions                    float64\n",
       "weekly_icu_admissions_per_million        float64\n",
       "weekly_hosp_admissions                   float64\n",
       "weekly_hosp_admissions_per_million       float64\n",
       "new_tests                                float64\n",
       "total_tests                              float64\n",
       "total_tests_per_thousand                 float64\n",
       "new_tests_per_thousand                   float64\n",
       "new_tests_smoothed                       float64\n",
       "new_tests_smoothed_per_thousand          float64\n",
       "positive_rate                            float64\n",
       "tests_per_case                           float64\n",
       "tests_units                               object\n",
       "total_vaccinations                       float64\n",
       "people_vaccinated                        float64\n",
       "people_fully_vaccinated                  float64\n",
       "new_vaccinations                         float64\n",
       "new_vaccinations_smoothed                float64\n",
       "total_vaccinations_per_hundred           float64\n",
       "people_vaccinated_per_hundred            float64\n",
       "people_fully_vaccinated_per_hundred      float64\n",
       "new_vaccinations_smoothed_per_million    float64\n",
       "stringency_index                         float64\n",
       "population                               float64\n",
       "population_density                       float64\n",
       "median_age                               float64\n",
       "aged_65_older                            float64\n",
       "aged_70_older                            float64\n",
       "gdp_per_capita                           float64\n",
       "extreme_poverty                          float64\n",
       "cardiovasc_death_rate                    float64\n",
       "diabetes_prevalence                      float64\n",
       "female_smokers                           float64\n",
       "male_smokers                             float64\n",
       "handwashing_facilities                   float64\n",
       "hospital_beds_per_thousand               float64\n",
       "life_expectancy                          float64\n",
       "human_development_index                  float64\n",
       "dtype: object"
      ]
     },
     "execution_count": 29,
     "metadata": {},
     "output_type": "execute_result"
    }
   ],
   "source": [
    "#Visualizando os tipos dos dados\n",
    "df.dtypes"
   ]
  },
  {
   "cell_type": "markdown",
   "metadata": {},
   "source": [
    "Não é segredo para ninguém que as informações do covid podem estar falhas e ausentes, então nada mais correto que fazermos um check para entendermos quais colunas possuem uma quantidade significativa de dados ausentes"
   ]
  },
  {
   "cell_type": "code",
   "execution_count": 30,
   "metadata": {},
   "outputs": [
    {
     "data": {
      "text/plain": [
       "weekly_icu_admissions                    0.990854\n",
       "weekly_icu_admissions_per_million        0.990854\n",
       "weekly_hosp_admissions                   0.983157\n",
       "weekly_hosp_admissions_per_million       0.983157\n",
       "people_fully_vaccinated                  0.955589\n",
       "people_fully_vaccinated_per_hundred      0.955589\n",
       "new_vaccinations                         0.937591\n",
       "people_vaccinated                        0.934077\n",
       "people_vaccinated_per_hundred            0.934077\n",
       "total_vaccinations                       0.927008\n",
       "total_vaccinations_per_hundred           0.927008\n",
       "icu_patients_per_million                 0.895592\n",
       "icu_patients                             0.895592\n",
       "new_vaccinations_smoothed_per_million    0.888344\n",
       "new_vaccinations_smoothed                0.888344\n",
       "hosp_patients                            0.874926\n",
       "hosp_patients_per_million                0.874926\n",
       "total_tests                              0.550517\n",
       "total_tests_per_thousand                 0.550517\n",
       "new_tests                                0.547567\n",
       "new_tests_per_thousand                   0.547567\n",
       "handwashing_facilities                   0.539831\n",
       "tests_per_case                           0.506427\n",
       "positive_rate                            0.499346\n",
       "new_tests_smoothed_per_thousand          0.482169\n",
       "new_tests_smoothed                       0.482169\n",
       "tests_units                              0.464787\n",
       "extreme_poverty                          0.380134\n",
       "male_smokers                             0.290800\n",
       "female_smokers                           0.280229\n",
       "reproduction_rate                        0.194987\n",
       "hospital_beds_per_thousand               0.161865\n",
       "stringency_index                         0.148382\n",
       "total_deaths_per_million                 0.143944\n",
       "new_deaths_per_million                   0.141917\n",
       "total_deaths                             0.138774\n",
       "new_deaths                               0.136747\n",
       "aged_65_older                            0.105011\n",
       "aged_70_older                            0.099713\n",
       "median_age                               0.094620\n",
       "gdp_per_capita                           0.091272\n",
       "human_development_index                  0.084229\n",
       "cardiovasc_death_rate                    0.083524\n",
       "diabetes_prevalence                      0.071504\n",
       "population_density                       0.067296\n",
       "life_expectancy                          0.050517\n",
       "continent                                0.048926\n",
       "new_cases_smoothed_per_million           0.036727\n",
       "new_deaths_smoothed_per_million          0.036727\n",
       "new_deaths_smoothed                      0.031454\n",
       "new_cases_smoothed                       0.031454\n",
       "new_cases_per_million                    0.023950\n",
       "total_cases_per_million                  0.023924\n",
       "new_cases                                0.018614\n",
       "total_cases                              0.018588\n",
       "population                               0.006247\n",
       "date                                     0.000000\n",
       "location                                 0.000000\n",
       "iso_code                                 0.000000\n",
       "dtype: float64"
      ]
     },
     "execution_count": 30,
     "metadata": {},
     "output_type": "execute_result"
    }
   ],
   "source": [
    "# utilizando uma matemática simples, e ordenando do maior para o menor, percebmos quais colunas possuem maior ausência de informações\n",
    "(df.isnull().sum()/df.shape[0]).sort_values(ascending = False)"
   ]
  },
  {
   "cell_type": "markdown",
   "metadata": {},
   "source": [
    "Mencionamos anteriormente, é bem comum precisarmos alterar os tipos de dados, pois podem ter sidos salvos em um formato inadequado. Não foi diferente com este dataset, o dado que informa a data consta como object, sendo assim precisamos convertê-lo para data."
   ]
  },
  {
   "cell_type": "code",
   "execution_count": 31,
   "metadata": {},
   "outputs": [],
   "source": [
    "#Transformando a coluna que estava em object em date\n",
    "df.date = pd.to_datetime(df.date)"
   ]
  },
  {
   "cell_type": "markdown",
   "metadata": {},
   "source": [
    "## Quais são os cinco países que possuem mais casos de covid?"
   ]
  },
  {
   "cell_type": "markdown",
   "metadata": {},
   "source": [
    "A primeira pergunta que precisei responder foi esta, sendo assim, primeiramente precisei filtrar quais dados eu iria utilizar. Usando o comando loc, filtrei primeiramente a data mais recente ao dia de hoje, 28-03-2021, ordenando o total de casos do maior para o menor.\n",
    "\n",
    "Porém eu havia notado que existia a informação do total do mundo e dos continentes, também. Desta forma, o método que utilizei para fazer o tratamento foi limpar as linhas onde a coluna **'continent'** fosse NaN. Após feito essa trativa, um simples head() me mostraria quais são os cinco países que possuem mais casos de Covid, e infelizmente nosso país é hoje o segundo colocado."
   ]
  },
  {
   "cell_type": "code",
   "execution_count": 32,
   "metadata": {},
   "outputs": [
    {
     "data": {
      "text/html": [
       "<div>\n",
       "<style scoped>\n",
       "    .dataframe tbody tr th:only-of-type {\n",
       "        vertical-align: middle;\n",
       "    }\n",
       "\n",
       "    .dataframe tbody tr th {\n",
       "        vertical-align: top;\n",
       "    }\n",
       "\n",
       "    .dataframe thead th {\n",
       "        text-align: right;\n",
       "    }\n",
       "</style>\n",
       "<table border=\"1\" class=\"dataframe\">\n",
       "  <thead>\n",
       "    <tr style=\"text-align: right;\">\n",
       "      <th></th>\n",
       "      <th>location</th>\n",
       "      <th>total_cases</th>\n",
       "    </tr>\n",
       "  </thead>\n",
       "  <tbody>\n",
       "    <tr>\n",
       "      <th>74320</th>\n",
       "      <td>United States</td>\n",
       "      <td>30262377.0</td>\n",
       "    </tr>\n",
       "    <tr>\n",
       "      <th>10393</th>\n",
       "      <td>Brazil</td>\n",
       "      <td>12534688.0</td>\n",
       "    </tr>\n",
       "    <tr>\n",
       "      <th>32382</th>\n",
       "      <td>India</td>\n",
       "      <td>12039644.0</td>\n",
       "    </tr>\n",
       "    <tr>\n",
       "      <th>25874</th>\n",
       "      <td>France</td>\n",
       "      <td>4606185.0</td>\n",
       "    </tr>\n",
       "    <tr>\n",
       "      <th>58121</th>\n",
       "      <td>Russia</td>\n",
       "      <td>4469327.0</td>\n",
       "    </tr>\n",
       "  </tbody>\n",
       "</table>\n",
       "</div>"
      ],
      "text/plain": [
       "            location  total_cases\n",
       "74320  United States   30262377.0\n",
       "10393         Brazil   12534688.0\n",
       "32382          India   12039644.0\n",
       "25874         France    4606185.0\n",
       "58121         Russia    4469327.0"
      ]
     },
     "execution_count": 32,
     "metadata": {},
     "output_type": "execute_result"
    }
   ],
   "source": [
    "#loc para filtrar a data mais recente, sort_values para ordenar do maior para o menor\n",
    "#dropna para retirar os NaN da coluna continent, com o axis=0 para tirar todas as linhas.\n",
    "\n",
    "df_total_cases = df.loc[df.date == '2021-03-28'].sort_values(by='total_cases', ascending = False)\n",
    "df_total_cases.dropna(subset =['continent'], axis=0, inplace=True)\n",
    "df_total_cases = df_total_cases[['location', 'total_cases']]\n",
    "df_total_cases.head()"
   ]
  },
  {
   "cell_type": "code",
   "execution_count": 16,
   "metadata": {},
   "outputs": [],
   "source": [
    "#Salvando os dados em um DataFrame isolado e exportando via CSV.\n",
    "\n",
    "df1 = df_total_cases.head()\n",
    "df1.to_csv(\"top5_paises_casos.csv\")\n"
   ]
  },
  {
   "cell_type": "markdown",
   "metadata": {},
   "source": [
    "## Quais são os cinco países que possuem mais mortes por covid?"
   ]
  },
  {
   "cell_type": "markdown",
   "metadata": {},
   "source": [
    "A nossa segunda pergunta a ser respondida é: qual são os cinco países com maior número de mortes por covid-19. Seguindo o mesmo exemplo de anteriormente, utilizei o comando loc para filtrar a data mais recente ao dia de hoje, em seguida ordenando do maior para o menor através do sort_values. Mantendo o padrão de exclusão dos continentes e do valor Wolrd.\n",
    "\n",
    "Novamente nosso países figura a segunda colocação em um número ainda mais triste, o número de mortes. "
   ]
  },
  {
   "cell_type": "code",
   "execution_count": 34,
   "metadata": {},
   "outputs": [
    {
     "data": {
      "text/html": [
       "<div>\n",
       "<style scoped>\n",
       "    .dataframe tbody tr th:only-of-type {\n",
       "        vertical-align: middle;\n",
       "    }\n",
       "\n",
       "    .dataframe tbody tr th {\n",
       "        vertical-align: top;\n",
       "    }\n",
       "\n",
       "    .dataframe thead th {\n",
       "        text-align: right;\n",
       "    }\n",
       "</style>\n",
       "<table border=\"1\" class=\"dataframe\">\n",
       "  <thead>\n",
       "    <tr style=\"text-align: right;\">\n",
       "      <th></th>\n",
       "      <th>location</th>\n",
       "      <th>total_deaths</th>\n",
       "    </tr>\n",
       "  </thead>\n",
       "  <tbody>\n",
       "    <tr>\n",
       "      <th>4</th>\n",
       "      <td>United States</td>\n",
       "      <td>549335.0</td>\n",
       "    </tr>\n",
       "    <tr>\n",
       "      <th>7</th>\n",
       "      <td>Brazil</td>\n",
       "      <td>312206.0</td>\n",
       "    </tr>\n",
       "    <tr>\n",
       "      <th>8</th>\n",
       "      <td>Mexico</td>\n",
       "      <td>201623.0</td>\n",
       "    </tr>\n",
       "    <tr>\n",
       "      <th>9</th>\n",
       "      <td>India</td>\n",
       "      <td>161843.0</td>\n",
       "    </tr>\n",
       "    <tr>\n",
       "      <th>10</th>\n",
       "      <td>United Kingdom</td>\n",
       "      <td>126834.0</td>\n",
       "    </tr>\n",
       "  </tbody>\n",
       "</table>\n",
       "</div>"
      ],
      "text/plain": [
       "          location  total_deaths\n",
       "4    United States      549335.0\n",
       "7           Brazil      312206.0\n",
       "8           Mexico      201623.0\n",
       "9            India      161843.0\n",
       "10  United Kingdom      126834.0"
      ]
     },
     "execution_count": 34,
     "metadata": {},
     "output_type": "execute_result"
    }
   ],
   "source": [
    "#loc para filtrar a data mais recente, sort_values para ordenar do maior para o menor\n",
    "#dropna para retirar os NaN da coluna continent, com o axis=0 para tirar todas as linhas.\n",
    "\n",
    "df_total_deaths = df.loc[df.date == '2021-03-28'].sort_values(by='total_deaths', ascending = False)\n",
    "df_total_deaths.dropna(subset =['continent'], axis=0, inplace=True)\n",
    "df_total_deaths = df_total_deaths1[['location', 'total_deaths']]\n",
    "df_total_deaths.head()"
   ]
  },
  {
   "cell_type": "code",
   "execution_count": 35,
   "metadata": {},
   "outputs": [],
   "source": [
    "#Salvando os dados em um DataFrame isolado e exportando via CSV.\n",
    "\n",
    "df2 = df_total_deaths1.head()\n",
    "df2.to_csv(\"maiores_numeros_de_morte.csv\")"
   ]
  },
  {
   "cell_type": "markdown",
   "metadata": {},
   "source": [
    "## É possível visualizarmos alguma subnotificação apenas com estes dados?"
   ]
  },
  {
   "cell_type": "markdown",
   "metadata": {},
   "source": [
    "Nossa próxima questão é um pouco mais complexa, é saber se existe subnotificação visível apenas neste dataset. Para fazer essa checagem eu utilizei um padrão, total de mortes e total de casos. Minha razão para fazer esta checagem por estes dados é buscar discrepâncias quanto a diferença de números. \n",
    "\n",
    "Logo na terceira linha conseguimos ver um exemplo claríssimo de subnotificação. O México figura no top 3 em total de mortes, porém sequer entraria num top 10 em números de casos. Entendendo que a mortalidade do covid-19 figura entre 2-4%, é bem perceptível que não estão realizando testes com toda a população da mesma forma que realizam com os que morrem com sintomas."
   ]
  },
  {
   "cell_type": "code",
   "execution_count": 19,
   "metadata": {},
   "outputs": [
    {
     "data": {
      "text/html": [
       "<div>\n",
       "<style scoped>\n",
       "    .dataframe tbody tr th:only-of-type {\n",
       "        vertical-align: middle;\n",
       "    }\n",
       "\n",
       "    .dataframe tbody tr th {\n",
       "        vertical-align: top;\n",
       "    }\n",
       "\n",
       "    .dataframe thead th {\n",
       "        text-align: right;\n",
       "    }\n",
       "</style>\n",
       "<table border=\"1\" class=\"dataframe\">\n",
       "  <thead>\n",
       "    <tr style=\"text-align: right;\">\n",
       "      <th></th>\n",
       "      <th>location</th>\n",
       "      <th>total_cases</th>\n",
       "      <th>total_deaths</th>\n",
       "    </tr>\n",
       "  </thead>\n",
       "  <tbody>\n",
       "    <tr>\n",
       "      <th>74320</th>\n",
       "      <td>United States</td>\n",
       "      <td>30262377.0</td>\n",
       "      <td>549335.0</td>\n",
       "    </tr>\n",
       "    <tr>\n",
       "      <th>10393</th>\n",
       "      <td>Brazil</td>\n",
       "      <td>12534688.0</td>\n",
       "      <td>312206.0</td>\n",
       "    </tr>\n",
       "    <tr>\n",
       "      <th>45653</th>\n",
       "      <td>Mexico</td>\n",
       "      <td>2226550.0</td>\n",
       "      <td>201623.0</td>\n",
       "    </tr>\n",
       "    <tr>\n",
       "      <th>32382</th>\n",
       "      <td>India</td>\n",
       "      <td>12039644.0</td>\n",
       "      <td>161843.0</td>\n",
       "    </tr>\n",
       "    <tr>\n",
       "      <th>73888</th>\n",
       "      <td>United Kingdom</td>\n",
       "      <td>4347013.0</td>\n",
       "      <td>126834.0</td>\n",
       "    </tr>\n",
       "    <tr>\n",
       "      <th>35274</th>\n",
       "      <td>Italy</td>\n",
       "      <td>3532057.0</td>\n",
       "      <td>107933.0</td>\n",
       "    </tr>\n",
       "    <tr>\n",
       "      <th>58121</th>\n",
       "      <td>Russia</td>\n",
       "      <td>4469327.0</td>\n",
       "      <td>96123.0</td>\n",
       "    </tr>\n",
       "    <tr>\n",
       "      <th>25874</th>\n",
       "      <td>France</td>\n",
       "      <td>4606185.0</td>\n",
       "      <td>94754.0</td>\n",
       "    </tr>\n",
       "    <tr>\n",
       "      <th>27455</th>\n",
       "      <td>Germany</td>\n",
       "      <td>2784652.0</td>\n",
       "      <td>75959.0</td>\n",
       "    </tr>\n",
       "    <tr>\n",
       "      <th>66298</th>\n",
       "      <td>Spain</td>\n",
       "      <td>3255324.0</td>\n",
       "      <td>75010.0</td>\n",
       "    </tr>\n",
       "    <tr>\n",
       "      <th>15592</th>\n",
       "      <td>Colombia</td>\n",
       "      <td>2382730.0</td>\n",
       "      <td>62955.0</td>\n",
       "    </tr>\n",
       "    <tr>\n",
       "      <th>33594</th>\n",
       "      <td>Iran</td>\n",
       "      <td>1855674.0</td>\n",
       "      <td>62397.0</td>\n",
       "    </tr>\n",
       "    <tr>\n",
       "      <th>3248</th>\n",
       "      <td>Argentina</td>\n",
       "      <td>2308597.0</td>\n",
       "      <td>55449.0</td>\n",
       "    </tr>\n",
       "    <tr>\n",
       "      <th>64684</th>\n",
       "      <td>South Africa</td>\n",
       "      <td>1545431.0</td>\n",
       "      <td>52663.0</td>\n",
       "    </tr>\n",
       "    <tr>\n",
       "      <th>56510</th>\n",
       "      <td>Poland</td>\n",
       "      <td>2250991.0</td>\n",
       "      <td>51884.0</td>\n",
       "    </tr>\n",
       "  </tbody>\n",
       "</table>\n",
       "</div>"
      ],
      "text/plain": [
       "             location  total_cases  total_deaths\n",
       "74320   United States   30262377.0      549335.0\n",
       "10393          Brazil   12534688.0      312206.0\n",
       "45653          Mexico    2226550.0      201623.0\n",
       "32382           India   12039644.0      161843.0\n",
       "73888  United Kingdom    4347013.0      126834.0\n",
       "35274           Italy    3532057.0      107933.0\n",
       "58121          Russia    4469327.0       96123.0\n",
       "25874          France    4606185.0       94754.0\n",
       "27455         Germany    2784652.0       75959.0\n",
       "66298           Spain    3255324.0       75010.0\n",
       "15592        Colombia    2382730.0       62955.0\n",
       "33594            Iran    1855674.0       62397.0\n",
       "3248        Argentina    2308597.0       55449.0\n",
       "64684    South Africa    1545431.0       52663.0\n",
       "56510          Poland    2250991.0       51884.0"
      ]
     },
     "execution_count": 19,
     "metadata": {},
     "output_type": "execute_result"
    }
   ],
   "source": [
    "#loc para filtrar a data mais recente, sort_values para ordenar do maior para o menor\n",
    "#dropna para retirar os NaN da coluna continent, com o axis=0 para tirar todas as linhas.\n",
    "#Ordenei pelo número de mortes pois era onde eu acreditava que estariam as maiores discrepâncias.\n",
    "\n",
    "df_subnotification = df.loc[df.date == '2021-03-28'].sort_values(by = 'total_deaths', ascending = False)\n",
    "df_subnotification = df_subnotification.dropna(subset=['continent'], axis=0)\n",
    "df_subnotification = df_subnotification[['location', 'total_cases', 'total_deaths']]\n",
    "df_subnotification.head(15)"
   ]
  },
  {
   "cell_type": "code",
   "execution_count": 36,
   "metadata": {},
   "outputs": [],
   "source": [
    "#Salvando os dados em um DataFrame isolado e exportando via CSV.\n",
    "\n",
    "\n",
    "df3 = df_subnotification.head(15)\n",
    "df3.to_csv(\"df_subnotificacao.csv\")"
   ]
  },
  {
   "cell_type": "markdown",
   "metadata": {},
   "source": [
    "## Quais são os top 20 países com mais mortes por milhão de habitantes?"
   ]
  },
  {
   "cell_type": "markdown",
   "metadata": {},
   "source": [
    "Certo dia no supermercado com meu pai, comentei que o Brasil deveria ser um dos primeiros em número de mortes por milhão de habitantes, meu pai disse que o Brasil estava na posição 26, naquela data. Eu logo questionei e disse que provávelmente ele viu isso de alguma fonte errônea. \n",
    "\n",
    "Este diálogo com meu pai foi há 1 mês mais ou menos, e nas últimas semanas o Brasil vive seu pior momento em números de mortes. Quando resolvi realizar a checagem dos dados, notei que realmente a afirmação do Brasil, um mês atrás figurar no top 26, fazia sentido, é, meu velho estava certo.\n",
    "\n",
    "Neste caso mantive o padrão quanto aos filtros, apenas preferi resetar o index para poder visualizar melhor os países por colocação de forma mais simples."
   ]
  },
  {
   "cell_type": "code",
   "execution_count": 37,
   "metadata": {},
   "outputs": [
    {
     "data": {
      "text/html": [
       "<div>\n",
       "<style scoped>\n",
       "    .dataframe tbody tr th:only-of-type {\n",
       "        vertical-align: middle;\n",
       "    }\n",
       "\n",
       "    .dataframe tbody tr th {\n",
       "        vertical-align: top;\n",
       "    }\n",
       "\n",
       "    .dataframe thead th {\n",
       "        text-align: right;\n",
       "    }\n",
       "</style>\n",
       "<table border=\"1\" class=\"dataframe\">\n",
       "  <thead>\n",
       "    <tr style=\"text-align: right;\">\n",
       "      <th></th>\n",
       "      <th>location</th>\n",
       "      <th>total_deaths_per_million</th>\n",
       "    </tr>\n",
       "  </thead>\n",
       "  <tbody>\n",
       "    <tr>\n",
       "      <th>0</th>\n",
       "      <td>San Marino</td>\n",
       "      <td>2475.102</td>\n",
       "    </tr>\n",
       "    <tr>\n",
       "      <th>1</th>\n",
       "      <td>Czechia</td>\n",
       "      <td>2416.103</td>\n",
       "    </tr>\n",
       "    <tr>\n",
       "      <th>2</th>\n",
       "      <td>Hungary</td>\n",
       "      <td>2067.420</td>\n",
       "    </tr>\n",
       "    <tr>\n",
       "      <th>3</th>\n",
       "      <td>Montenegro</td>\n",
       "      <td>1982.288</td>\n",
       "    </tr>\n",
       "    <tr>\n",
       "      <th>4</th>\n",
       "      <td>Belgium</td>\n",
       "      <td>1975.648</td>\n",
       "    </tr>\n",
       "    <tr>\n",
       "      <th>5</th>\n",
       "      <td>Slovenia</td>\n",
       "      <td>1932.723</td>\n",
       "    </tr>\n",
       "    <tr>\n",
       "      <th>6</th>\n",
       "      <td>Bosnia and Herzegovina</td>\n",
       "      <td>1895.870</td>\n",
       "    </tr>\n",
       "    <tr>\n",
       "      <th>7</th>\n",
       "      <td>United Kingdom</td>\n",
       "      <td>1868.338</td>\n",
       "    </tr>\n",
       "    <tr>\n",
       "      <th>8</th>\n",
       "      <td>Bulgaria</td>\n",
       "      <td>1829.186</td>\n",
       "    </tr>\n",
       "    <tr>\n",
       "      <th>9</th>\n",
       "      <td>Italy</td>\n",
       "      <td>1785.143</td>\n",
       "    </tr>\n",
       "    <tr>\n",
       "      <th>10</th>\n",
       "      <td>North Macedonia</td>\n",
       "      <td>1763.960</td>\n",
       "    </tr>\n",
       "    <tr>\n",
       "      <th>11</th>\n",
       "      <td>Slovakia</td>\n",
       "      <td>1739.308</td>\n",
       "    </tr>\n",
       "    <tr>\n",
       "      <th>12</th>\n",
       "      <td>United States</td>\n",
       "      <td>1659.609</td>\n",
       "    </tr>\n",
       "    <tr>\n",
       "      <th>13</th>\n",
       "      <td>Portugal</td>\n",
       "      <td>1651.219</td>\n",
       "    </tr>\n",
       "    <tr>\n",
       "      <th>14</th>\n",
       "      <td>Spain</td>\n",
       "      <td>1604.328</td>\n",
       "    </tr>\n",
       "    <tr>\n",
       "      <th>15</th>\n",
       "      <td>Mexico</td>\n",
       "      <td>1563.784</td>\n",
       "    </tr>\n",
       "    <tr>\n",
       "      <th>16</th>\n",
       "      <td>Peru</td>\n",
       "      <td>1560.998</td>\n",
       "    </tr>\n",
       "    <tr>\n",
       "      <th>17</th>\n",
       "      <td>Andorra</td>\n",
       "      <td>1488.384</td>\n",
       "    </tr>\n",
       "    <tr>\n",
       "      <th>18</th>\n",
       "      <td>Brazil</td>\n",
       "      <td>1468.794</td>\n",
       "    </tr>\n",
       "    <tr>\n",
       "      <th>19</th>\n",
       "      <td>Liechtenstein</td>\n",
       "      <td>1468.390</td>\n",
       "    </tr>\n",
       "  </tbody>\n",
       "</table>\n",
       "</div>"
      ],
      "text/plain": [
       "                  location  total_deaths_per_million\n",
       "0               San Marino                  2475.102\n",
       "1                  Czechia                  2416.103\n",
       "2                  Hungary                  2067.420\n",
       "3               Montenegro                  1982.288\n",
       "4                  Belgium                  1975.648\n",
       "5                 Slovenia                  1932.723\n",
       "6   Bosnia and Herzegovina                  1895.870\n",
       "7           United Kingdom                  1868.338\n",
       "8                 Bulgaria                  1829.186\n",
       "9                    Italy                  1785.143\n",
       "10         North Macedonia                  1763.960\n",
       "11                Slovakia                  1739.308\n",
       "12           United States                  1659.609\n",
       "13                Portugal                  1651.219\n",
       "14                   Spain                  1604.328\n",
       "15                  Mexico                  1563.784\n",
       "16                    Peru                  1560.998\n",
       "17                 Andorra                  1488.384\n",
       "18                  Brazil                  1468.794\n",
       "19           Liechtenstein                  1468.390"
      ]
     },
     "execution_count": 37,
     "metadata": {},
     "output_type": "execute_result"
    }
   ],
   "source": [
    "#loc para filtrar a data mais recente, sort_values para ordenar do maior para o menor\n",
    "#dropna para retirar os NaN da coluna continent, com o axis=0 para tirar todas as linhas.\n",
    "#Reset_Index para olhar os países como se fosse um ranking\n",
    "#Head para ver os 20 primeiros\n",
    "\n",
    "df_total_deaths_per_million = df.loc[df.date == '2021-03-28'].sort_values(by='total_deaths_per_million', ascending = False)\n",
    "df_total_deaths_per_million.dropna(subset =['continent'], axis=0, inplace=True)\n",
    "df_total_deaths_per_million = df_total_deaths_per_million[['location', 'total_deaths_per_million']]\n",
    "df_total_deaths_per_million = df_total_deaths_per_million.reset_index()\n",
    "df_total_deaths_per_million[['location', 'total_deaths_per_million']].head(20)\n"
   ]
  },
  {
   "cell_type": "code",
   "execution_count": 38,
   "metadata": {},
   "outputs": [],
   "source": [
    "#Salvando os dados em um DataFrame isolado e exportando via CSV.\n",
    "\n",
    "\n",
    "df4 = df_total_deaths_per_million[['location', 'total_deaths_per_million']].head(20)\n",
    "df4.to_csv(\"total_death_per_milion.csv\")\n"
   ]
  },
  {
   "cell_type": "markdown",
   "metadata": {},
   "source": [
    "## Comparando a evolução de novas mortes por dia entre os três maiores países da America do Sul."
   ]
  },
  {
   "cell_type": "markdown",
   "metadata": {},
   "source": [
    "Um exercício que me propus a fazer é entender como esta comportando as evoluções de mortes por dia, nos maiores países da America do Sul. Minha ideia era entender se realmente somos esse desastre todo no controle da Covid, e a resposta é que sim.\n",
    "\n",
    "É extremamente perceptível nossa curva de evolução de casos. Apesar da curva do Uruguai estar bem próxima, os números de mortes são brutalmente menores, e o Uruguai aparenta estar no pico da sua segunda onda. Comparando com a Argentina tomamos goleada, a Argentina se mostra extremamente controlada quanto ao avanço do número de mortes por Covid-19, enquanto o Brasil bate recorde de mortes semana pós semana."
   ]
  },
  {
   "cell_type": "markdown",
   "metadata": {},
   "source": [
    "## Comparando a evolução de novos casos por dia entre os três maiores países da America do Sul."
   ]
  },
  {
   "cell_type": "markdown",
   "metadata": {},
   "source": [
    "Nesta comparação resolvi analisar como são os picos de cada país. Algo que percebi é que, o Brasil teve um aumento do número de casos por dia em Outubro, e deste então este número não para de subir, ou seja, quase 6 meses em uma crescente. Em contrapartida Uruguai possui um pico referente aos últimos 30 dias, e a Argentina segue um padrão semelhante.\n",
    "\n",
    "Com isso podemos notar como faz diferença uma gestão de controle da Pandemia, onde nosso país, extremamente mal gerido nesta fase, tem um total descontrole em números de casos, o que apenas reflete o caos que hoje vivemos com o nosso sistema de saúde em caos, com quase todos os estados em Onda Vermelha."
   ]
  },
  {
   "cell_type": "code",
   "execution_count": 41,
   "metadata": {},
   "outputs": [],
   "source": [
    "#isolando Datasets por países\n",
    "df_brazil = df.loc[df.location == 'Brazil']\n",
    "df_argentina = df.loc[df.location == 'Argentina']\n",
    "df_uruguai = df.loc[df.location == 'Uruguay']\n"
   ]
  },
  {
   "cell_type": "code",
   "execution_count": 42,
   "metadata": {},
   "outputs": [
    {
     "ename": "PermissionError",
     "evalue": "[Errno 13] Permission denied: 'df_brazil.csv'",
     "output_type": "error",
     "traceback": [
      "\u001b[1;31m---------------------------------------------------------------------------\u001b[0m",
      "\u001b[1;31mPermissionError\u001b[0m                           Traceback (most recent call last)",
      "\u001b[1;32m<ipython-input-42-c50c164565f1>\u001b[0m in \u001b[0;36m<module>\u001b[1;34m\u001b[0m\n\u001b[0;32m      1\u001b[0m \u001b[1;31m#exportando Datasets por CSV\u001b[0m\u001b[1;33m\u001b[0m\u001b[1;33m\u001b[0m\u001b[1;33m\u001b[0m\u001b[0m\n\u001b[0;32m      2\u001b[0m \u001b[1;33m\u001b[0m\u001b[0m\n\u001b[1;32m----> 3\u001b[1;33m \u001b[0mdf_brazil\u001b[0m\u001b[1;33m.\u001b[0m\u001b[0mto_csv\u001b[0m\u001b[1;33m(\u001b[0m\u001b[1;34m\"df_brazil.csv\"\u001b[0m\u001b[1;33m)\u001b[0m\u001b[1;33m\u001b[0m\u001b[1;33m\u001b[0m\u001b[0m\n\u001b[0m\u001b[0;32m      4\u001b[0m \u001b[0mdf_argentina\u001b[0m\u001b[1;33m.\u001b[0m\u001b[0mto_csv\u001b[0m\u001b[1;33m(\u001b[0m\u001b[1;34m\"df_argentina.csv\"\u001b[0m\u001b[1;33m)\u001b[0m\u001b[1;33m\u001b[0m\u001b[1;33m\u001b[0m\u001b[0m\n\u001b[0;32m      5\u001b[0m \u001b[0mdf_uruguai\u001b[0m\u001b[1;33m.\u001b[0m\u001b[0mto_csv\u001b[0m\u001b[1;33m(\u001b[0m\u001b[1;34m\"df_uruguai.csv\"\u001b[0m\u001b[1;33m)\u001b[0m\u001b[1;33m\u001b[0m\u001b[1;33m\u001b[0m\u001b[0m\n",
      "\u001b[1;32m~\\Anaconda3\\lib\\site-packages\\pandas\\core\\generic.py\u001b[0m in \u001b[0;36mto_csv\u001b[1;34m(self, path_or_buf, sep, na_rep, float_format, columns, header, index, index_label, mode, encoding, compression, quoting, quotechar, line_terminator, chunksize, date_format, doublequote, escapechar, decimal)\u001b[0m\n\u001b[0;32m   3202\u001b[0m             \u001b[0mdecimal\u001b[0m\u001b[1;33m=\u001b[0m\u001b[0mdecimal\u001b[0m\u001b[1;33m,\u001b[0m\u001b[1;33m\u001b[0m\u001b[1;33m\u001b[0m\u001b[0m\n\u001b[0;32m   3203\u001b[0m         )\n\u001b[1;32m-> 3204\u001b[1;33m         \u001b[0mformatter\u001b[0m\u001b[1;33m.\u001b[0m\u001b[0msave\u001b[0m\u001b[1;33m(\u001b[0m\u001b[1;33m)\u001b[0m\u001b[1;33m\u001b[0m\u001b[1;33m\u001b[0m\u001b[0m\n\u001b[0m\u001b[0;32m   3205\u001b[0m \u001b[1;33m\u001b[0m\u001b[0m\n\u001b[0;32m   3206\u001b[0m         \u001b[1;32mif\u001b[0m \u001b[0mpath_or_buf\u001b[0m \u001b[1;32mis\u001b[0m \u001b[1;32mNone\u001b[0m\u001b[1;33m:\u001b[0m\u001b[1;33m\u001b[0m\u001b[1;33m\u001b[0m\u001b[0m\n",
      "\u001b[1;32m~\\Anaconda3\\lib\\site-packages\\pandas\\io\\formats\\csvs.py\u001b[0m in \u001b[0;36msave\u001b[1;34m(self)\u001b[0m\n\u001b[0;32m    186\u001b[0m                 \u001b[0mself\u001b[0m\u001b[1;33m.\u001b[0m\u001b[0mmode\u001b[0m\u001b[1;33m,\u001b[0m\u001b[1;33m\u001b[0m\u001b[1;33m\u001b[0m\u001b[0m\n\u001b[0;32m    187\u001b[0m                 \u001b[0mencoding\u001b[0m\u001b[1;33m=\u001b[0m\u001b[0mself\u001b[0m\u001b[1;33m.\u001b[0m\u001b[0mencoding\u001b[0m\u001b[1;33m,\u001b[0m\u001b[1;33m\u001b[0m\u001b[1;33m\u001b[0m\u001b[0m\n\u001b[1;32m--> 188\u001b[1;33m                 \u001b[0mcompression\u001b[0m\u001b[1;33m=\u001b[0m\u001b[0mdict\u001b[0m\u001b[1;33m(\u001b[0m\u001b[0mself\u001b[0m\u001b[1;33m.\u001b[0m\u001b[0mcompression_args\u001b[0m\u001b[1;33m,\u001b[0m \u001b[0mmethod\u001b[0m\u001b[1;33m=\u001b[0m\u001b[0mself\u001b[0m\u001b[1;33m.\u001b[0m\u001b[0mcompression\u001b[0m\u001b[1;33m)\u001b[0m\u001b[1;33m,\u001b[0m\u001b[1;33m\u001b[0m\u001b[1;33m\u001b[0m\u001b[0m\n\u001b[0m\u001b[0;32m    189\u001b[0m             )\n\u001b[0;32m    190\u001b[0m             \u001b[0mclose\u001b[0m \u001b[1;33m=\u001b[0m \u001b[1;32mTrue\u001b[0m\u001b[1;33m\u001b[0m\u001b[1;33m\u001b[0m\u001b[0m\n",
      "\u001b[1;32m~\\Anaconda3\\lib\\site-packages\\pandas\\io\\common.py\u001b[0m in \u001b[0;36mget_handle\u001b[1;34m(path_or_buf, mode, encoding, compression, memory_map, is_text)\u001b[0m\n\u001b[0;32m    426\u001b[0m         \u001b[1;32mif\u001b[0m \u001b[0mencoding\u001b[0m\u001b[1;33m:\u001b[0m\u001b[1;33m\u001b[0m\u001b[1;33m\u001b[0m\u001b[0m\n\u001b[0;32m    427\u001b[0m             \u001b[1;31m# Encoding\u001b[0m\u001b[1;33m\u001b[0m\u001b[1;33m\u001b[0m\u001b[1;33m\u001b[0m\u001b[0m\n\u001b[1;32m--> 428\u001b[1;33m             \u001b[0mf\u001b[0m \u001b[1;33m=\u001b[0m \u001b[0mopen\u001b[0m\u001b[1;33m(\u001b[0m\u001b[0mpath_or_buf\u001b[0m\u001b[1;33m,\u001b[0m \u001b[0mmode\u001b[0m\u001b[1;33m,\u001b[0m \u001b[0mencoding\u001b[0m\u001b[1;33m=\u001b[0m\u001b[0mencoding\u001b[0m\u001b[1;33m,\u001b[0m \u001b[0mnewline\u001b[0m\u001b[1;33m=\u001b[0m\u001b[1;34m\"\"\u001b[0m\u001b[1;33m)\u001b[0m\u001b[1;33m\u001b[0m\u001b[1;33m\u001b[0m\u001b[0m\n\u001b[0m\u001b[0;32m    429\u001b[0m         \u001b[1;32melif\u001b[0m \u001b[0mis_text\u001b[0m\u001b[1;33m:\u001b[0m\u001b[1;33m\u001b[0m\u001b[1;33m\u001b[0m\u001b[0m\n\u001b[0;32m    430\u001b[0m             \u001b[1;31m# No explicit encoding\u001b[0m\u001b[1;33m\u001b[0m\u001b[1;33m\u001b[0m\u001b[1;33m\u001b[0m\u001b[0m\n",
      "\u001b[1;31mPermissionError\u001b[0m: [Errno 13] Permission denied: 'df_brazil.csv'"
     ]
    }
   ],
   "source": [
    "#exportando Datasets por CSV\n",
    "\n",
    "df_brazil.to_csv(\"df_brazil.csv\")\n",
    "df_argentina.to_csv(\"df_argentina.csv\")\n",
    "df_uruguai.to_csv(\"df_uruguai.csv\")"
   ]
  },
  {
   "cell_type": "code",
   "execution_count": null,
   "metadata": {},
   "outputs": [],
   "source": []
  }
 ],
 "metadata": {
  "kernelspec": {
   "display_name": "Python 3",
   "language": "python",
   "name": "python3"
  },
  "language_info": {
   "codemirror_mode": {
    "name": "ipython",
    "version": 3
   },
   "file_extension": ".py",
   "mimetype": "text/x-python",
   "name": "python",
   "nbconvert_exporter": "python",
   "pygments_lexer": "ipython3",
   "version": "3.7.6"
  }
 },
 "nbformat": 4,
 "nbformat_minor": 4
}
